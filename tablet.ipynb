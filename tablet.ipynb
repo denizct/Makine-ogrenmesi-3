{
 "cells": [
  {
   "cell_type": "code",
   "execution_count": 159,
   "id": "c975ecc7",
   "metadata": {},
   "outputs": [],
   "source": [
    "import numpy as np\n",
    "import pandas as pd\n",
    "import matplotlib.pyplot as plt\n",
    "import seaborn as sns\n",
    "import statsmodels.api as sm\n",
    "from sklearn.impute import KNNImputer\n",
    "from sklearn.metrics import mean_squared_error\n",
    "from sklearn.tree import DecisionTreeClassifier \n",
    "from sklearn.linear_model import LinearRegression\n",
    "from sklearn.neighbors import KNeighborsRegressor\n",
    "from sklearn.model_selection import train_test_split\n",
    "from sklearn.ensemble import GradientBoostingRegressor"
   ]
  },
  {
   "cell_type": "code",
   "execution_count": 160,
   "id": "c969ada4",
   "metadata": {},
   "outputs": [],
   "source": [
    "#Verisetini inceleme\n",
    "c = pd.read_csv(\"tablet.csv\")\n",
    "df= c.copy()"
   ]
  },
  {
   "cell_type": "code",
   "execution_count": 161,
   "id": "a3be5f95",
   "metadata": {},
   "outputs": [
    {
     "data": {
      "text/html": [
       "<div>\n",
       "<style scoped>\n",
       "    .dataframe tbody tr th:only-of-type {\n",
       "        vertical-align: middle;\n",
       "    }\n",
       "\n",
       "    .dataframe tbody tr th {\n",
       "        vertical-align: top;\n",
       "    }\n",
       "\n",
       "    .dataframe thead th {\n",
       "        text-align: right;\n",
       "    }\n",
       "</style>\n",
       "<table border=\"1\" class=\"dataframe\">\n",
       "  <thead>\n",
       "    <tr style=\"text-align: right;\">\n",
       "      <th></th>\n",
       "      <th>BataryaGucu</th>\n",
       "      <th>Bluetooth</th>\n",
       "      <th>MikroislemciHizi</th>\n",
       "      <th>CiftHat</th>\n",
       "      <th>OnKameraMP</th>\n",
       "      <th>4G</th>\n",
       "      <th>DahiliBellek</th>\n",
       "      <th>Kalinlik</th>\n",
       "      <th>Agirlik</th>\n",
       "      <th>CekirdekSayisi</th>\n",
       "      <th>ArkaKameraMP</th>\n",
       "      <th>CozunurlukYükseklik</th>\n",
       "      <th>CozunurlukGenislik</th>\n",
       "      <th>RAM</th>\n",
       "      <th>BataryaOmru</th>\n",
       "      <th>3G</th>\n",
       "      <th>Dokunmatik</th>\n",
       "      <th>WiFi</th>\n",
       "      <th>FiyatAraligi</th>\n",
       "      <th>Renk</th>\n",
       "    </tr>\n",
       "  </thead>\n",
       "  <tbody>\n",
       "    <tr>\n",
       "      <th>0</th>\n",
       "      <td>1325</td>\n",
       "      <td>Yok</td>\n",
       "      <td>1.9</td>\n",
       "      <td>Yok</td>\n",
       "      <td>2.0</td>\n",
       "      <td>Yok</td>\n",
       "      <td>50</td>\n",
       "      <td>0.1</td>\n",
       "      <td>146</td>\n",
       "      <td>1</td>\n",
       "      <td>10</td>\n",
       "      <td>499</td>\n",
       "      <td>695</td>\n",
       "      <td>2328.0</td>\n",
       "      <td>2</td>\n",
       "      <td>Var</td>\n",
       "      <td>Yok</td>\n",
       "      <td>Yok</td>\n",
       "      <td>Normal</td>\n",
       "      <td>Beyaz</td>\n",
       "    </tr>\n",
       "    <tr>\n",
       "      <th>1</th>\n",
       "      <td>1046</td>\n",
       "      <td>Var</td>\n",
       "      <td>2.8</td>\n",
       "      <td>Var</td>\n",
       "      <td>0.0</td>\n",
       "      <td>Var</td>\n",
       "      <td>58</td>\n",
       "      <td>0.2</td>\n",
       "      <td>100</td>\n",
       "      <td>8</td>\n",
       "      <td>0</td>\n",
       "      <td>259</td>\n",
       "      <td>1040</td>\n",
       "      <td>3863.0</td>\n",
       "      <td>9</td>\n",
       "      <td>Var</td>\n",
       "      <td>Var</td>\n",
       "      <td>Var</td>\n",
       "      <td>Pahalı</td>\n",
       "      <td>Pembe</td>\n",
       "    </tr>\n",
       "    <tr>\n",
       "      <th>2</th>\n",
       "      <td>843</td>\n",
       "      <td>Yok</td>\n",
       "      <td>1.3</td>\n",
       "      <td>Var</td>\n",
       "      <td>1.0</td>\n",
       "      <td>Yok</td>\n",
       "      <td>16</td>\n",
       "      <td>0.9</td>\n",
       "      <td>119</td>\n",
       "      <td>7</td>\n",
       "      <td>4</td>\n",
       "      <td>593</td>\n",
       "      <td>732</td>\n",
       "      <td>1734.0</td>\n",
       "      <td>14</td>\n",
       "      <td>Yok</td>\n",
       "      <td>Yok</td>\n",
       "      <td>Var</td>\n",
       "      <td>Ucuz</td>\n",
       "      <td>Mor</td>\n",
       "    </tr>\n",
       "    <tr>\n",
       "      <th>3</th>\n",
       "      <td>894</td>\n",
       "      <td>Yok</td>\n",
       "      <td>0.5</td>\n",
       "      <td>Var</td>\n",
       "      <td>1.0</td>\n",
       "      <td>Var</td>\n",
       "      <td>50</td>\n",
       "      <td>0.5</td>\n",
       "      <td>199</td>\n",
       "      <td>3</td>\n",
       "      <td>14</td>\n",
       "      <td>1285</td>\n",
       "      <td>1462</td>\n",
       "      <td>3615.0</td>\n",
       "      <td>6</td>\n",
       "      <td>Var</td>\n",
       "      <td>Yok</td>\n",
       "      <td>Var</td>\n",
       "      <td>Pahalı</td>\n",
       "      <td>Turuncu</td>\n",
       "    </tr>\n",
       "    <tr>\n",
       "      <th>4</th>\n",
       "      <td>936</td>\n",
       "      <td>Yok</td>\n",
       "      <td>1.0</td>\n",
       "      <td>Yok</td>\n",
       "      <td>1.0</td>\n",
       "      <td>Yok</td>\n",
       "      <td>18</td>\n",
       "      <td>0.2</td>\n",
       "      <td>153</td>\n",
       "      <td>3</td>\n",
       "      <td>18</td>\n",
       "      <td>1330</td>\n",
       "      <td>1686</td>\n",
       "      <td>2391.0</td>\n",
       "      <td>3</td>\n",
       "      <td>Var</td>\n",
       "      <td>Var</td>\n",
       "      <td>Var</td>\n",
       "      <td>Normal</td>\n",
       "      <td>Beyaz</td>\n",
       "    </tr>\n",
       "  </tbody>\n",
       "</table>\n",
       "</div>"
      ],
      "text/plain": [
       "   BataryaGucu Bluetooth  MikroislemciHizi CiftHat  OnKameraMP   4G  \\\n",
       "0         1325       Yok               1.9     Yok         2.0  Yok   \n",
       "1         1046       Var               2.8     Var         0.0  Var   \n",
       "2          843       Yok               1.3     Var         1.0  Yok   \n",
       "3          894       Yok               0.5     Var         1.0  Var   \n",
       "4          936       Yok               1.0     Yok         1.0  Yok   \n",
       "\n",
       "   DahiliBellek  Kalinlik  Agirlik  CekirdekSayisi  ArkaKameraMP  \\\n",
       "0            50       0.1      146               1            10   \n",
       "1            58       0.2      100               8             0   \n",
       "2            16       0.9      119               7             4   \n",
       "3            50       0.5      199               3            14   \n",
       "4            18       0.2      153               3            18   \n",
       "\n",
       "   CozunurlukYükseklik  CozunurlukGenislik     RAM  BataryaOmru   3G  \\\n",
       "0                  499                 695  2328.0            2  Var   \n",
       "1                  259                1040  3863.0            9  Var   \n",
       "2                  593                 732  1734.0           14  Yok   \n",
       "3                 1285                1462  3615.0            6  Var   \n",
       "4                 1330                1686  2391.0            3  Var   \n",
       "\n",
       "  Dokunmatik WiFi FiyatAraligi     Renk  \n",
       "0        Yok  Yok       Normal    Beyaz  \n",
       "1        Var  Var       Pahalı    Pembe  \n",
       "2        Yok  Var         Ucuz      Mor  \n",
       "3        Yok  Var       Pahalı  Turuncu  \n",
       "4        Var  Var       Normal    Beyaz  "
      ]
     },
     "execution_count": 161,
     "metadata": {},
     "output_type": "execute_result"
    }
   ],
   "source": [
    "df.head()"
   ]
  },
  {
   "cell_type": "code",
   "execution_count": 162,
   "id": "58e23de6",
   "metadata": {},
   "outputs": [],
   "source": [
    "df.drop([\"MikroislemciHizi\",\"CiftHat\",\"Kalinlik\",\"Agirlik\",\n",
    "         \"CozunurlukYükseklik\",\"CozunurlukGenislik\",\"BataryaOmru\",\"3G\",\n",
    "         \"Dokunmatik\",\"WiFi\",\"Renk\"], axis=1,inplace=True)"
   ]
  },
  {
   "cell_type": "code",
   "execution_count": 163,
   "id": "860cd0a8",
   "metadata": {},
   "outputs": [
    {
     "name": "stdout",
     "output_type": "stream",
     "text": [
      "<class 'pandas.core.frame.DataFrame'>\n",
      "RangeIndex: 2000 entries, 0 to 1999\n",
      "Data columns (total 9 columns):\n",
      " #   Column          Non-Null Count  Dtype  \n",
      "---  ------          --------------  -----  \n",
      " 0   BataryaGucu     2000 non-null   int64  \n",
      " 1   Bluetooth       2000 non-null   object \n",
      " 2   OnKameraMP      1995 non-null   float64\n",
      " 3   4G              2000 non-null   object \n",
      " 4   DahiliBellek    2000 non-null   int64  \n",
      " 5   CekirdekSayisi  2000 non-null   int64  \n",
      " 6   ArkaKameraMP    2000 non-null   int64  \n",
      " 7   RAM             1988 non-null   float64\n",
      " 8   FiyatAraligi    2000 non-null   object \n",
      "dtypes: float64(2), int64(4), object(3)\n",
      "memory usage: 140.8+ KB\n"
     ]
    }
   ],
   "source": [
    "df.info()"
   ]
  },
  {
   "cell_type": "code",
   "execution_count": 164,
   "id": "5ba99b5e",
   "metadata": {},
   "outputs": [
    {
     "name": "stdout",
     "output_type": "stream",
     "text": [
      "Kolonların tipleri:\n",
      " BataryaGucu         int64\n",
      "Bluetooth          object\n",
      "OnKameraMP        float64\n",
      "4G                 object\n",
      "DahiliBellek        int64\n",
      "CekirdekSayisi      int64\n",
      "ArkaKameraMP        int64\n",
      "RAM               float64\n",
      "FiyatAraligi       object\n",
      "dtype: object\n",
      "--------------------------------------------------------------------------------\n",
      "Kolonlar: Index(['BataryaGucu', 'Bluetooth', 'OnKameraMP', '4G', 'DahiliBellek',\n",
      "       'CekirdekSayisi', 'ArkaKameraMP', 'RAM', 'FiyatAraligi'],\n",
      "      dtype='object')\n",
      "--------------------------------------------------------------------------------\n",
      "Satır sayısı: 2000\n",
      "Kolon sayısı: 9\n"
     ]
    }
   ],
   "source": [
    "print('Kolonların tipleri:\\n',df.dtypes)\n",
    "print('-'*80)\n",
    "print('Kolonlar:',df.columns)\n",
    "print('-'*80)\n",
    "print('Satır sayısı:',df.shape[0])\n",
    "print('Kolon sayısı:',df.shape[1])"
   ]
  },
  {
   "cell_type": "code",
   "execution_count": 165,
   "id": "66f68e5f",
   "metadata": {},
   "outputs": [
    {
     "data": {
      "text/html": [
       "<div>\n",
       "<style scoped>\n",
       "    .dataframe tbody tr th:only-of-type {\n",
       "        vertical-align: middle;\n",
       "    }\n",
       "\n",
       "    .dataframe tbody tr th {\n",
       "        vertical-align: top;\n",
       "    }\n",
       "\n",
       "    .dataframe thead th {\n",
       "        text-align: right;\n",
       "    }\n",
       "</style>\n",
       "<table border=\"1\" class=\"dataframe\">\n",
       "  <thead>\n",
       "    <tr style=\"text-align: right;\">\n",
       "      <th></th>\n",
       "      <th>BataryaGucu</th>\n",
       "      <th>Bluetooth</th>\n",
       "      <th>OnKameraMP</th>\n",
       "      <th>4G</th>\n",
       "      <th>DahiliBellek</th>\n",
       "      <th>CekirdekSayisi</th>\n",
       "      <th>ArkaKameraMP</th>\n",
       "      <th>RAM</th>\n",
       "      <th>FiyatAraligi</th>\n",
       "    </tr>\n",
       "  </thead>\n",
       "  <tbody>\n",
       "    <tr>\n",
       "      <th>0</th>\n",
       "      <td>1325</td>\n",
       "      <td>Yok</td>\n",
       "      <td>2.0</td>\n",
       "      <td>Yok</td>\n",
       "      <td>50</td>\n",
       "      <td>1</td>\n",
       "      <td>10</td>\n",
       "      <td>2328.0</td>\n",
       "      <td>Normal</td>\n",
       "    </tr>\n",
       "    <tr>\n",
       "      <th>1</th>\n",
       "      <td>1046</td>\n",
       "      <td>Var</td>\n",
       "      <td>0.0</td>\n",
       "      <td>Var</td>\n",
       "      <td>58</td>\n",
       "      <td>8</td>\n",
       "      <td>0</td>\n",
       "      <td>3863.0</td>\n",
       "      <td>Pahalı</td>\n",
       "    </tr>\n",
       "    <tr>\n",
       "      <th>2</th>\n",
       "      <td>843</td>\n",
       "      <td>Yok</td>\n",
       "      <td>1.0</td>\n",
       "      <td>Yok</td>\n",
       "      <td>16</td>\n",
       "      <td>7</td>\n",
       "      <td>4</td>\n",
       "      <td>1734.0</td>\n",
       "      <td>Ucuz</td>\n",
       "    </tr>\n",
       "    <tr>\n",
       "      <th>3</th>\n",
       "      <td>894</td>\n",
       "      <td>Yok</td>\n",
       "      <td>1.0</td>\n",
       "      <td>Var</td>\n",
       "      <td>50</td>\n",
       "      <td>3</td>\n",
       "      <td>14</td>\n",
       "      <td>3615.0</td>\n",
       "      <td>Pahalı</td>\n",
       "    </tr>\n",
       "    <tr>\n",
       "      <th>4</th>\n",
       "      <td>936</td>\n",
       "      <td>Yok</td>\n",
       "      <td>1.0</td>\n",
       "      <td>Yok</td>\n",
       "      <td>18</td>\n",
       "      <td>3</td>\n",
       "      <td>18</td>\n",
       "      <td>2391.0</td>\n",
       "      <td>Normal</td>\n",
       "    </tr>\n",
       "  </tbody>\n",
       "</table>\n",
       "</div>"
      ],
      "text/plain": [
       "   BataryaGucu Bluetooth  OnKameraMP   4G  DahiliBellek  CekirdekSayisi  \\\n",
       "0         1325       Yok         2.0  Yok            50               1   \n",
       "1         1046       Var         0.0  Var            58               8   \n",
       "2          843       Yok         1.0  Yok            16               7   \n",
       "3          894       Yok         1.0  Var            50               3   \n",
       "4          936       Yok         1.0  Yok            18               3   \n",
       "\n",
       "   ArkaKameraMP     RAM FiyatAraligi  \n",
       "0            10  2328.0       Normal  \n",
       "1             0  3863.0       Pahalı  \n",
       "2             4  1734.0         Ucuz  \n",
       "3            14  3615.0       Pahalı  \n",
       "4            18  2391.0       Normal  "
      ]
     },
     "execution_count": 165,
     "metadata": {},
     "output_type": "execute_result"
    }
   ],
   "source": [
    "df.head()"
   ]
  },
  {
   "cell_type": "code",
   "execution_count": 166,
   "id": "5bf3d3d0",
   "metadata": {},
   "outputs": [
    {
     "data": {
      "text/html": [
       "<div>\n",
       "<style scoped>\n",
       "    .dataframe tbody tr th:only-of-type {\n",
       "        vertical-align: middle;\n",
       "    }\n",
       "\n",
       "    .dataframe tbody tr th {\n",
       "        vertical-align: top;\n",
       "    }\n",
       "\n",
       "    .dataframe thead th {\n",
       "        text-align: right;\n",
       "    }\n",
       "</style>\n",
       "<table border=\"1\" class=\"dataframe\">\n",
       "  <thead>\n",
       "    <tr style=\"text-align: right;\">\n",
       "      <th></th>\n",
       "      <th>count</th>\n",
       "      <th>mean</th>\n",
       "      <th>std</th>\n",
       "      <th>min</th>\n",
       "      <th>25%</th>\n",
       "      <th>50%</th>\n",
       "      <th>75%</th>\n",
       "      <th>max</th>\n",
       "    </tr>\n",
       "  </thead>\n",
       "  <tbody>\n",
       "    <tr>\n",
       "      <th>BataryaGucu</th>\n",
       "      <td>2000.0</td>\n",
       "      <td>1238.518500</td>\n",
       "      <td>439.418206</td>\n",
       "      <td>501.0</td>\n",
       "      <td>851.75</td>\n",
       "      <td>1226.0</td>\n",
       "      <td>1615.25</td>\n",
       "      <td>1998.0</td>\n",
       "    </tr>\n",
       "    <tr>\n",
       "      <th>OnKameraMP</th>\n",
       "      <td>1995.0</td>\n",
       "      <td>4.312281</td>\n",
       "      <td>4.342095</td>\n",
       "      <td>0.0</td>\n",
       "      <td>1.00</td>\n",
       "      <td>3.0</td>\n",
       "      <td>7.00</td>\n",
       "      <td>19.0</td>\n",
       "    </tr>\n",
       "    <tr>\n",
       "      <th>DahiliBellek</th>\n",
       "      <td>2000.0</td>\n",
       "      <td>32.046500</td>\n",
       "      <td>18.145715</td>\n",
       "      <td>2.0</td>\n",
       "      <td>16.00</td>\n",
       "      <td>32.0</td>\n",
       "      <td>48.00</td>\n",
       "      <td>64.0</td>\n",
       "    </tr>\n",
       "    <tr>\n",
       "      <th>CekirdekSayisi</th>\n",
       "      <td>2000.0</td>\n",
       "      <td>4.520500</td>\n",
       "      <td>2.287837</td>\n",
       "      <td>1.0</td>\n",
       "      <td>3.00</td>\n",
       "      <td>4.0</td>\n",
       "      <td>7.00</td>\n",
       "      <td>8.0</td>\n",
       "    </tr>\n",
       "    <tr>\n",
       "      <th>ArkaKameraMP</th>\n",
       "      <td>2000.0</td>\n",
       "      <td>9.916500</td>\n",
       "      <td>6.064315</td>\n",
       "      <td>0.0</td>\n",
       "      <td>5.00</td>\n",
       "      <td>10.0</td>\n",
       "      <td>15.00</td>\n",
       "      <td>20.0</td>\n",
       "    </tr>\n",
       "    <tr>\n",
       "      <th>RAM</th>\n",
       "      <td>1988.0</td>\n",
       "      <td>2116.243964</td>\n",
       "      <td>1082.513059</td>\n",
       "      <td>256.0</td>\n",
       "      <td>1204.75</td>\n",
       "      <td>2129.5</td>\n",
       "      <td>3049.50</td>\n",
       "      <td>3998.0</td>\n",
       "    </tr>\n",
       "  </tbody>\n",
       "</table>\n",
       "</div>"
      ],
      "text/plain": [
       "                 count         mean          std    min      25%     50%  \\\n",
       "BataryaGucu     2000.0  1238.518500   439.418206  501.0   851.75  1226.0   \n",
       "OnKameraMP      1995.0     4.312281     4.342095    0.0     1.00     3.0   \n",
       "DahiliBellek    2000.0    32.046500    18.145715    2.0    16.00    32.0   \n",
       "CekirdekSayisi  2000.0     4.520500     2.287837    1.0     3.00     4.0   \n",
       "ArkaKameraMP    2000.0     9.916500     6.064315    0.0     5.00    10.0   \n",
       "RAM             1988.0  2116.243964  1082.513059  256.0  1204.75  2129.5   \n",
       "\n",
       "                    75%     max  \n",
       "BataryaGucu     1615.25  1998.0  \n",
       "OnKameraMP         7.00    19.0  \n",
       "DahiliBellek      48.00    64.0  \n",
       "CekirdekSayisi     7.00     8.0  \n",
       "ArkaKameraMP      15.00    20.0  \n",
       "RAM             3049.50  3998.0  "
      ]
     },
     "execution_count": 166,
     "metadata": {},
     "output_type": "execute_result"
    }
   ],
   "source": [
    "df.describe().T"
   ]
  },
  {
   "cell_type": "code",
   "execution_count": 167,
   "id": "ffdaf0ce",
   "metadata": {},
   "outputs": [
    {
     "data": {
      "text/html": [
       "<div>\n",
       "<style scoped>\n",
       "    .dataframe tbody tr th:only-of-type {\n",
       "        vertical-align: middle;\n",
       "    }\n",
       "\n",
       "    .dataframe tbody tr th {\n",
       "        vertical-align: top;\n",
       "    }\n",
       "\n",
       "    .dataframe thead th {\n",
       "        text-align: right;\n",
       "    }\n",
       "</style>\n",
       "<table border=\"1\" class=\"dataframe\">\n",
       "  <thead>\n",
       "    <tr style=\"text-align: right;\">\n",
       "      <th></th>\n",
       "      <th>BataryaGucu</th>\n",
       "      <th>OnKameraMP</th>\n",
       "      <th>DahiliBellek</th>\n",
       "      <th>CekirdekSayisi</th>\n",
       "      <th>ArkaKameraMP</th>\n",
       "      <th>RAM</th>\n",
       "    </tr>\n",
       "  </thead>\n",
       "  <tbody>\n",
       "    <tr>\n",
       "      <th>BataryaGucu</th>\n",
       "      <td>1.000000</td>\n",
       "      <td>0.032167</td>\n",
       "      <td>-0.004004</td>\n",
       "      <td>-0.029727</td>\n",
       "      <td>0.031441</td>\n",
       "      <td>-0.000883</td>\n",
       "    </tr>\n",
       "    <tr>\n",
       "      <th>OnKameraMP</th>\n",
       "      <td>0.032167</td>\n",
       "      <td>1.000000</td>\n",
       "      <td>-0.028642</td>\n",
       "      <td>-0.013721</td>\n",
       "      <td>0.645697</td>\n",
       "      <td>0.012528</td>\n",
       "    </tr>\n",
       "    <tr>\n",
       "      <th>DahiliBellek</th>\n",
       "      <td>-0.004004</td>\n",
       "      <td>-0.028642</td>\n",
       "      <td>1.000000</td>\n",
       "      <td>-0.028310</td>\n",
       "      <td>-0.033273</td>\n",
       "      <td>0.032883</td>\n",
       "    </tr>\n",
       "    <tr>\n",
       "      <th>CekirdekSayisi</th>\n",
       "      <td>-0.029727</td>\n",
       "      <td>-0.013721</td>\n",
       "      <td>-0.028310</td>\n",
       "      <td>1.000000</td>\n",
       "      <td>-0.001193</td>\n",
       "      <td>0.005576</td>\n",
       "    </tr>\n",
       "    <tr>\n",
       "      <th>ArkaKameraMP</th>\n",
       "      <td>0.031441</td>\n",
       "      <td>0.645697</td>\n",
       "      <td>-0.033273</td>\n",
       "      <td>-0.001193</td>\n",
       "      <td>1.000000</td>\n",
       "      <td>0.029540</td>\n",
       "    </tr>\n",
       "    <tr>\n",
       "      <th>RAM</th>\n",
       "      <td>-0.000883</td>\n",
       "      <td>0.012528</td>\n",
       "      <td>0.032883</td>\n",
       "      <td>0.005576</td>\n",
       "      <td>0.029540</td>\n",
       "      <td>1.000000</td>\n",
       "    </tr>\n",
       "  </tbody>\n",
       "</table>\n",
       "</div>"
      ],
      "text/plain": [
       "                BataryaGucu  OnKameraMP  DahiliBellek  CekirdekSayisi  \\\n",
       "BataryaGucu        1.000000    0.032167     -0.004004       -0.029727   \n",
       "OnKameraMP         0.032167    1.000000     -0.028642       -0.013721   \n",
       "DahiliBellek      -0.004004   -0.028642      1.000000       -0.028310   \n",
       "CekirdekSayisi    -0.029727   -0.013721     -0.028310        1.000000   \n",
       "ArkaKameraMP       0.031441    0.645697     -0.033273       -0.001193   \n",
       "RAM               -0.000883    0.012528      0.032883        0.005576   \n",
       "\n",
       "                ArkaKameraMP       RAM  \n",
       "BataryaGucu         0.031441 -0.000883  \n",
       "OnKameraMP          0.645697  0.012528  \n",
       "DahiliBellek       -0.033273  0.032883  \n",
       "CekirdekSayisi     -0.001193  0.005576  \n",
       "ArkaKameraMP        1.000000  0.029540  \n",
       "RAM                 0.029540  1.000000  "
      ]
     },
     "execution_count": 167,
     "metadata": {},
     "output_type": "execute_result"
    }
   ],
   "source": [
    "df.corr(numeric_only=True)"
   ]
  },
  {
   "cell_type": "code",
   "execution_count": 168,
   "id": "9e1df32d",
   "metadata": {},
   "outputs": [
    {
     "data": {
      "text/plain": [
       "BataryaGucu        0\n",
       "Bluetooth          0\n",
       "OnKameraMP         5\n",
       "4G                 0\n",
       "DahiliBellek       0\n",
       "CekirdekSayisi     0\n",
       "ArkaKameraMP       0\n",
       "RAM               12\n",
       "FiyatAraligi       0\n",
       "dtype: int64"
      ]
     },
     "execution_count": 168,
     "metadata": {},
     "output_type": "execute_result"
    }
   ],
   "source": [
    "df.isnull().sum()"
   ]
  },
  {
   "cell_type": "code",
   "execution_count": 169,
   "id": "02750ac1",
   "metadata": {},
   "outputs": [
    {
     "data": {
      "image/png": "[encoded data removed]",
      "text/plain": [
       "<Figure size 2000x2000 with 6 Axes>"
      ]
     },
     "metadata": {},
     "output_type": "display_data"
    }
   ],
   "source": [
    "df.hist(figsize =(20,20), color = \"blue\")\n",
    "plt.show()"
   ]
  },
  {
   "cell_type": "code",
   "execution_count": 170,
   "id": "aabfc2e4",
   "metadata": {},
   "outputs": [
    {
     "data": {
      "image/png": "[encoded data removed]",
      "text/plain": [
       "<Figure size 640x480 with 1 Axes>"
      ]
     },
     "metadata": {},
     "output_type": "display_data"
    }
   ],
   "source": [
    "df.CekirdekSayisi.value_counts().plot.barh();"
   ]
  },
  {
   "cell_type": "code",
   "execution_count": 171,
   "id": "2ef1a00b",
   "metadata": {},
   "outputs": [
    {
     "data": {
      "image/png": "[encoded data removed]",
      "text/plain": [
       "<Figure size 500x1500 with 1 Axes>"
      ]
     },
     "metadata": {},
     "output_type": "display_data"
    }
   ],
   "source": [
    "fig = plt.figure(figsize=(5,15))\n",
    "df.Bluetooth.value_counts().plot(kind = 'pie',autopct='%.1f%%');"
   ]
  },
  {
   "cell_type": "code",
   "execution_count": 172,
   "id": "0bd07631",
   "metadata": {},
   "outputs": [
    {
     "data": {
      "image/png": "[encoded data removed]",
      "text/plain": [
       "<Figure size 500x1500 with 1 Axes>"
      ]
     },
     "metadata": {},
     "output_type": "display_data"
    }
   ],
   "source": [
    "fig = plt.figure(figsize=(5,15))\n",
    "df.FiyatAraligi.value_counts().plot(kind = 'pie',autopct='%.1f%%');"
   ]
  },
  {
   "cell_type": "code",
   "execution_count": 173,
   "id": "671a1771",
   "metadata": {},
   "outputs": [],
   "source": [
    "#Verisetini modele hazır hale getirme"
   ]
  },
  {
   "cell_type": "code",
   "execution_count": 174,
   "id": "4828222c",
   "metadata": {},
   "outputs": [
    {
     "data": {
      "text/plain": [
       "4.312280701754386"
      ]
     },
     "execution_count": 174,
     "metadata": {},
     "output_type": "execute_result"
    }
   ],
   "source": [
    "df[\"OnKameraMP\"].mean()"
   ]
  },
  {
   "cell_type": "code",
   "execution_count": 175,
   "id": "b105615b",
   "metadata": {},
   "outputs": [
    {
     "data": {
      "text/plain": [
       "2116.243963782696"
      ]
     },
     "execution_count": 175,
     "metadata": {},
     "output_type": "execute_result"
    }
   ],
   "source": [
    "df[\"RAM\"].mean()"
   ]
  },
  {
   "cell_type": "code",
   "execution_count": 176,
   "id": "ff074a75",
   "metadata": {},
   "outputs": [],
   "source": [
    "knn_imputer = KNNImputer()\n",
    "df[\"OnKameraMP\"] = knn_imputer.fit_transform(df[[\"OnKameraMP\"]])\n",
    "df[\"RAM\"] = knn_imputer.fit_transform(df[[\"RAM\"]])"
   ]
  },
  {
   "cell_type": "code",
   "execution_count": 177,
   "id": "305d394b",
   "metadata": {},
   "outputs": [
    {
     "data": {
      "text/plain": [
       "BataryaGucu       0\n",
       "Bluetooth         0\n",
       "OnKameraMP        0\n",
       "4G                0\n",
       "DahiliBellek      0\n",
       "CekirdekSayisi    0\n",
       "ArkaKameraMP      0\n",
       "RAM               0\n",
       "FiyatAraligi      0\n",
       "dtype: int64"
      ]
     },
     "execution_count": 177,
     "metadata": {},
     "output_type": "execute_result"
    }
   ],
   "source": [
    "df.isnull().sum()"
   ]
  },
  {
   "cell_type": "code",
   "execution_count": 178,
   "id": "4bccb437",
   "metadata": {},
   "outputs": [],
   "source": [
    "df[\"FiyatAraligi\"] = df[\"FiyatAraligi\"].replace(\"Çok Ucuz\",0)\n",
    "df[\"FiyatAraligi\"] = df[\"FiyatAraligi\"].replace(\"Ucuz\",1)\n",
    "df[\"FiyatAraligi\"] = df[\"FiyatAraligi\"].replace(\"Normal\",2)\n",
    "df[\"FiyatAraligi\"] = df[\"FiyatAraligi\"].replace(\"Pahalı\",3)"
   ]
  },
  {
   "cell_type": "code",
   "execution_count": 179,
   "id": "70bc2091",
   "metadata": {},
   "outputs": [],
   "source": [
    "df.replace(\"Var\",1,inplace=True)\n",
    "df.replace(\"Yok\",0,inplace=True)"
   ]
  },
  {
   "cell_type": "code",
   "execution_count": 180,
   "id": "a24ecded",
   "metadata": {},
   "outputs": [
    {
     "data": {
      "text/html": [
       "<div>\n",
       "<style scoped>\n",
       "    .dataframe tbody tr th:only-of-type {\n",
       "        vertical-align: middle;\n",
       "    }\n",
       "\n",
       "    .dataframe tbody tr th {\n",
       "        vertical-align: top;\n",
       "    }\n",
       "\n",
       "    .dataframe thead th {\n",
       "        text-align: right;\n",
       "    }\n",
       "</style>\n",
       "<table border=\"1\" class=\"dataframe\">\n",
       "  <thead>\n",
       "    <tr style=\"text-align: right;\">\n",
       "      <th></th>\n",
       "      <th>BataryaGucu</th>\n",
       "      <th>Bluetooth</th>\n",
       "      <th>OnKameraMP</th>\n",
       "      <th>4G</th>\n",
       "      <th>DahiliBellek</th>\n",
       "      <th>CekirdekSayisi</th>\n",
       "      <th>ArkaKameraMP</th>\n",
       "      <th>RAM</th>\n",
       "      <th>FiyatAraligi</th>\n",
       "    </tr>\n",
       "  </thead>\n",
       "  <tbody>\n",
       "    <tr>\n",
       "      <th>0</th>\n",
       "      <td>1325</td>\n",
       "      <td>0</td>\n",
       "      <td>2.0</td>\n",
       "      <td>0</td>\n",
       "      <td>50</td>\n",
       "      <td>1</td>\n",
       "      <td>10</td>\n",
       "      <td>2328.0</td>\n",
       "      <td>2</td>\n",
       "    </tr>\n",
       "    <tr>\n",
       "      <th>1</th>\n",
       "      <td>1046</td>\n",
       "      <td>1</td>\n",
       "      <td>0.0</td>\n",
       "      <td>1</td>\n",
       "      <td>58</td>\n",
       "      <td>8</td>\n",
       "      <td>0</td>\n",
       "      <td>3863.0</td>\n",
       "      <td>3</td>\n",
       "    </tr>\n",
       "    <tr>\n",
       "      <th>2</th>\n",
       "      <td>843</td>\n",
       "      <td>0</td>\n",
       "      <td>1.0</td>\n",
       "      <td>0</td>\n",
       "      <td>16</td>\n",
       "      <td>7</td>\n",
       "      <td>4</td>\n",
       "      <td>1734.0</td>\n",
       "      <td>1</td>\n",
       "    </tr>\n",
       "    <tr>\n",
       "      <th>3</th>\n",
       "      <td>894</td>\n",
       "      <td>0</td>\n",
       "      <td>1.0</td>\n",
       "      <td>1</td>\n",
       "      <td>50</td>\n",
       "      <td>3</td>\n",
       "      <td>14</td>\n",
       "      <td>3615.0</td>\n",
       "      <td>3</td>\n",
       "    </tr>\n",
       "    <tr>\n",
       "      <th>4</th>\n",
       "      <td>936</td>\n",
       "      <td>0</td>\n",
       "      <td>1.0</td>\n",
       "      <td>0</td>\n",
       "      <td>18</td>\n",
       "      <td>3</td>\n",
       "      <td>18</td>\n",
       "      <td>2391.0</td>\n",
       "      <td>2</td>\n",
       "    </tr>\n",
       "    <tr>\n",
       "      <th>5</th>\n",
       "      <td>1162</td>\n",
       "      <td>0</td>\n",
       "      <td>0.0</td>\n",
       "      <td>0</td>\n",
       "      <td>50</td>\n",
       "      <td>4</td>\n",
       "      <td>10</td>\n",
       "      <td>1404.0</td>\n",
       "      <td>1</td>\n",
       "    </tr>\n",
       "    <tr>\n",
       "      <th>6</th>\n",
       "      <td>1849</td>\n",
       "      <td>1</td>\n",
       "      <td>1.0</td>\n",
       "      <td>0</td>\n",
       "      <td>29</td>\n",
       "      <td>7</td>\n",
       "      <td>12</td>\n",
       "      <td>3330.0</td>\n",
       "      <td>3</td>\n",
       "    </tr>\n",
       "    <tr>\n",
       "      <th>7</th>\n",
       "      <td>1860</td>\n",
       "      <td>0</td>\n",
       "      <td>2.0</td>\n",
       "      <td>1</td>\n",
       "      <td>55</td>\n",
       "      <td>6</td>\n",
       "      <td>3</td>\n",
       "      <td>676.0</td>\n",
       "      <td>0</td>\n",
       "    </tr>\n",
       "    <tr>\n",
       "      <th>8</th>\n",
       "      <td>1536</td>\n",
       "      <td>0</td>\n",
       "      <td>12.0</td>\n",
       "      <td>0</td>\n",
       "      <td>13</td>\n",
       "      <td>7</td>\n",
       "      <td>20</td>\n",
       "      <td>2020.0</td>\n",
       "      <td>2</td>\n",
       "    </tr>\n",
       "    <tr>\n",
       "      <th>9</th>\n",
       "      <td>539</td>\n",
       "      <td>1</td>\n",
       "      <td>9.0</td>\n",
       "      <td>0</td>\n",
       "      <td>21</td>\n",
       "      <td>7</td>\n",
       "      <td>14</td>\n",
       "      <td>3597.0</td>\n",
       "      <td>2</td>\n",
       "    </tr>\n",
       "  </tbody>\n",
       "</table>\n",
       "</div>"
      ],
      "text/plain": [
       "   BataryaGucu  Bluetooth  OnKameraMP  4G  DahiliBellek  CekirdekSayisi  \\\n",
       "0         1325          0         2.0   0            50               1   \n",
       "1         1046          1         0.0   1            58               8   \n",
       "2          843          0         1.0   0            16               7   \n",
       "3          894          0         1.0   1            50               3   \n",
       "4          936          0         1.0   0            18               3   \n",
       "5         1162          0         0.0   0            50               4   \n",
       "6         1849          1         1.0   0            29               7   \n",
       "7         1860          0         2.0   1            55               6   \n",
       "8         1536          0        12.0   0            13               7   \n",
       "9          539          1         9.0   0            21               7   \n",
       "\n",
       "   ArkaKameraMP     RAM  FiyatAraligi  \n",
       "0            10  2328.0             2  \n",
       "1             0  3863.0             3  \n",
       "2             4  1734.0             1  \n",
       "3            14  3615.0             3  \n",
       "4            18  2391.0             2  \n",
       "5            10  1404.0             1  \n",
       "6            12  3330.0             3  \n",
       "7             3   676.0             0  \n",
       "8            20  2020.0             2  \n",
       "9            14  3597.0             2  "
      ]
     },
     "execution_count": 180,
     "metadata": {},
     "output_type": "execute_result"
    }
   ],
   "source": [
    "df.head(10)"
   ]
  },
  {
   "cell_type": "code",
   "execution_count": 181,
   "id": "e63a003e",
   "metadata": {},
   "outputs": [],
   "source": [
    "X = df.drop(\"FiyatAraligi\", axis = 1)\n",
    "y = df[\"FiyatAraligi\"]\n",
    "X_train, X_test, y_train, y_test = train_test_split(X, y, test_size = 0.20, random_state= 50)"
   ]
  },
  {
   "cell_type": "code",
   "execution_count": 182,
   "id": "061b0544",
   "metadata": {},
   "outputs": [
    {
     "data": {
      "text/html": [
       "<div>\n",
       "<style scoped>\n",
       "    .dataframe tbody tr th:only-of-type {\n",
       "        vertical-align: middle;\n",
       "    }\n",
       "\n",
       "    .dataframe tbody tr th {\n",
       "        vertical-align: top;\n",
       "    }\n",
       "\n",
       "    .dataframe thead th {\n",
       "        text-align: right;\n",
       "    }\n",
       "</style>\n",
       "<table border=\"1\" class=\"dataframe\">\n",
       "  <thead>\n",
       "    <tr style=\"text-align: right;\">\n",
       "      <th></th>\n",
       "      <th>BataryaGucu</th>\n",
       "      <th>Bluetooth</th>\n",
       "      <th>OnKameraMP</th>\n",
       "      <th>4G</th>\n",
       "      <th>DahiliBellek</th>\n",
       "      <th>CekirdekSayisi</th>\n",
       "      <th>ArkaKameraMP</th>\n",
       "      <th>RAM</th>\n",
       "    </tr>\n",
       "  </thead>\n",
       "  <tbody>\n",
       "    <tr>\n",
       "      <th>0</th>\n",
       "      <td>1325</td>\n",
       "      <td>0</td>\n",
       "      <td>2.0</td>\n",
       "      <td>0</td>\n",
       "      <td>50</td>\n",
       "      <td>1</td>\n",
       "      <td>10</td>\n",
       "      <td>2328.0</td>\n",
       "    </tr>\n",
       "    <tr>\n",
       "      <th>1</th>\n",
       "      <td>1046</td>\n",
       "      <td>1</td>\n",
       "      <td>0.0</td>\n",
       "      <td>1</td>\n",
       "      <td>58</td>\n",
       "      <td>8</td>\n",
       "      <td>0</td>\n",
       "      <td>3863.0</td>\n",
       "    </tr>\n",
       "    <tr>\n",
       "      <th>2</th>\n",
       "      <td>843</td>\n",
       "      <td>0</td>\n",
       "      <td>1.0</td>\n",
       "      <td>0</td>\n",
       "      <td>16</td>\n",
       "      <td>7</td>\n",
       "      <td>4</td>\n",
       "      <td>1734.0</td>\n",
       "    </tr>\n",
       "    <tr>\n",
       "      <th>3</th>\n",
       "      <td>894</td>\n",
       "      <td>0</td>\n",
       "      <td>1.0</td>\n",
       "      <td>1</td>\n",
       "      <td>50</td>\n",
       "      <td>3</td>\n",
       "      <td>14</td>\n",
       "      <td>3615.0</td>\n",
       "    </tr>\n",
       "    <tr>\n",
       "      <th>4</th>\n",
       "      <td>936</td>\n",
       "      <td>0</td>\n",
       "      <td>1.0</td>\n",
       "      <td>0</td>\n",
       "      <td>18</td>\n",
       "      <td>3</td>\n",
       "      <td>18</td>\n",
       "      <td>2391.0</td>\n",
       "    </tr>\n",
       "    <tr>\n",
       "      <th>...</th>\n",
       "      <td>...</td>\n",
       "      <td>...</td>\n",
       "      <td>...</td>\n",
       "      <td>...</td>\n",
       "      <td>...</td>\n",
       "      <td>...</td>\n",
       "      <td>...</td>\n",
       "      <td>...</td>\n",
       "    </tr>\n",
       "    <tr>\n",
       "      <th>1995</th>\n",
       "      <td>689</td>\n",
       "      <td>0</td>\n",
       "      <td>3.0</td>\n",
       "      <td>1</td>\n",
       "      <td>7</td>\n",
       "      <td>2</td>\n",
       "      <td>6</td>\n",
       "      <td>1241.0</td>\n",
       "    </tr>\n",
       "    <tr>\n",
       "      <th>1996</th>\n",
       "      <td>1654</td>\n",
       "      <td>0</td>\n",
       "      <td>1.0</td>\n",
       "      <td>0</td>\n",
       "      <td>11</td>\n",
       "      <td>7</td>\n",
       "      <td>2</td>\n",
       "      <td>1070.0</td>\n",
       "    </tr>\n",
       "    <tr>\n",
       "      <th>1997</th>\n",
       "      <td>742</td>\n",
       "      <td>0</td>\n",
       "      <td>4.0</td>\n",
       "      <td>0</td>\n",
       "      <td>56</td>\n",
       "      <td>7</td>\n",
       "      <td>14</td>\n",
       "      <td>3557.0</td>\n",
       "    </tr>\n",
       "    <tr>\n",
       "      <th>1998</th>\n",
       "      <td>704</td>\n",
       "      <td>0</td>\n",
       "      <td>4.0</td>\n",
       "      <td>0</td>\n",
       "      <td>53</td>\n",
       "      <td>6</td>\n",
       "      <td>6</td>\n",
       "      <td>3653.0</td>\n",
       "    </tr>\n",
       "    <tr>\n",
       "      <th>1999</th>\n",
       "      <td>1872</td>\n",
       "      <td>0</td>\n",
       "      <td>5.0</td>\n",
       "      <td>1</td>\n",
       "      <td>26</td>\n",
       "      <td>4</td>\n",
       "      <td>10</td>\n",
       "      <td>2273.0</td>\n",
       "    </tr>\n",
       "  </tbody>\n",
       "</table>\n",
       "<p>2000 rows × 8 columns</p>\n",
       "</div>"
      ],
      "text/plain": [
       "      BataryaGucu  Bluetooth  OnKameraMP  4G  DahiliBellek  CekirdekSayisi  \\\n",
       "0            1325          0         2.0   0            50               1   \n",
       "1            1046          1         0.0   1            58               8   \n",
       "2             843          0         1.0   0            16               7   \n",
       "3             894          0         1.0   1            50               3   \n",
       "4             936          0         1.0   0            18               3   \n",
       "...           ...        ...         ...  ..           ...             ...   \n",
       "1995          689          0         3.0   1             7               2   \n",
       "1996         1654          0         1.0   0            11               7   \n",
       "1997          742          0         4.0   0            56               7   \n",
       "1998          704          0         4.0   0            53               6   \n",
       "1999         1872          0         5.0   1            26               4   \n",
       "\n",
       "      ArkaKameraMP     RAM  \n",
       "0               10  2328.0  \n",
       "1                0  3863.0  \n",
       "2                4  1734.0  \n",
       "3               14  3615.0  \n",
       "4               18  2391.0  \n",
       "...            ...     ...  \n",
       "1995             6  1241.0  \n",
       "1996             2  1070.0  \n",
       "1997            14  3557.0  \n",
       "1998             6  3653.0  \n",
       "1999            10  2273.0  \n",
       "\n",
       "[2000 rows x 8 columns]"
      ]
     },
     "execution_count": 182,
     "metadata": {},
     "output_type": "execute_result"
    }
   ],
   "source": [
    "X"
   ]
  },
  {
   "cell_type": "code",
   "execution_count": 183,
   "id": "cfc7df54",
   "metadata": {},
   "outputs": [
    {
     "data": {
      "text/plain": [
       "0       2\n",
       "1       3\n",
       "2       1\n",
       "3       3\n",
       "4       2\n",
       "       ..\n",
       "1995    0\n",
       "1996    1\n",
       "1997    3\n",
       "1998    2\n",
       "1999    2\n",
       "Name: FiyatAraligi, Length: 2000, dtype: int64"
      ]
     },
     "execution_count": 183,
     "metadata": {},
     "output_type": "execute_result"
    }
   ],
   "source": [
    "y"
   ]
  },
  {
   "cell_type": "code",
   "execution_count": 184,
   "id": "d24b1680",
   "metadata": {},
   "outputs": [],
   "source": [
    "#MODEL KURMA"
   ]
  },
  {
   "cell_type": "code",
   "execution_count": 185,
   "id": "c422b191",
   "metadata": {},
   "outputs": [],
   "source": [
    "#Stats model"
   ]
  },
  {
   "cell_type": "code",
   "execution_count": 186,
   "id": "650c13cf",
   "metadata": {},
   "outputs": [],
   "source": [
    "stats = sm.OLS(y_train, sm.add_constant(X_train))"
   ]
  },
  {
   "cell_type": "code",
   "execution_count": 187,
   "id": "095255b0",
   "metadata": {},
   "outputs": [],
   "source": [
    "statsmodel= stats.fit()"
   ]
  },
  {
   "cell_type": "code",
   "execution_count": 188,
   "id": "85dd177e",
   "metadata": {},
   "outputs": [
    {
     "data": {
      "text/plain": [
       "const            -1.168350\n",
       "BataryaGucu       0.000503\n",
       "Bluetooth        -0.020004\n",
       "OnKameraMP        0.000617\n",
       "4G                0.018891\n",
       "DahiliBellek      0.000892\n",
       "CekirdekSayisi    0.002937\n",
       "ArkaKameraMP     -0.000121\n",
       "RAM               0.000947\n",
       "dtype: float64"
      ]
     },
     "execution_count": 188,
     "metadata": {},
     "output_type": "execute_result"
    }
   ],
   "source": [
    "statsmodel.params"
   ]
  },
  {
   "cell_type": "code",
   "execution_count": 189,
   "id": "da1b4a08",
   "metadata": {},
   "outputs": [
    {
     "data": {
      "text/html": [
       "<table class=\"simpletable\">\n",
       "<caption>OLS Regression Results</caption>\n",
       "<tr>\n",
       "  <th>Dep. Variable:</th>      <td>FiyatAraligi</td>   <th>  R-squared:         </th> <td>   0.873</td>\n",
       "</tr>\n",
       "<tr>\n",
       "  <th>Model:</th>                   <td>OLS</td>       <th>  Adj. R-squared:    </th> <td>   0.873</td>\n",
       "</tr>\n",
       "<tr>\n",
       "  <th>Method:</th>             <td>Least Squares</td>  <th>  F-statistic:       </th> <td>   1369.</td>\n",
       "</tr>\n",
       "<tr>\n",
       "  <th>Date:</th>             <td>Sat, 09 Dec 2023</td> <th>  Prob (F-statistic):</th>  <td>  0.00</td> \n",
       "</tr>\n",
       "<tr>\n",
       "  <th>Time:</th>                 <td>17:26:35</td>     <th>  Log-Likelihood:    </th> <td> -803.44</td>\n",
       "</tr>\n",
       "<tr>\n",
       "  <th>No. Observations:</th>      <td>  1600</td>      <th>  AIC:               </th> <td>   1625.</td>\n",
       "</tr>\n",
       "<tr>\n",
       "  <th>Df Residuals:</th>          <td>  1591</td>      <th>  BIC:               </th> <td>   1673.</td>\n",
       "</tr>\n",
       "<tr>\n",
       "  <th>Df Model:</th>              <td>     8</td>      <th>                     </th>     <td> </td>   \n",
       "</tr>\n",
       "<tr>\n",
       "  <th>Covariance Type:</th>      <td>nonrobust</td>    <th>                     </th>     <td> </td>   \n",
       "</tr>\n",
       "</table>\n",
       "<table class=\"simpletable\">\n",
       "<tr>\n",
       "         <td></td>           <th>coef</th>     <th>std err</th>      <th>t</th>      <th>P>|t|</th>  <th>[0.025</th>    <th>0.975]</th>  \n",
       "</tr>\n",
       "<tr>\n",
       "  <th>const</th>          <td>   -1.1683</td> <td>    0.049</td> <td>  -23.702</td> <td> 0.000</td> <td>   -1.265</td> <td>   -1.072</td>\n",
       "</tr>\n",
       "<tr>\n",
       "  <th>BataryaGucu</th>    <td>    0.0005</td> <td> 2.27e-05</td> <td>   22.172</td> <td> 0.000</td> <td>    0.000</td> <td>    0.001</td>\n",
       "</tr>\n",
       "<tr>\n",
       "  <th>Bluetooth</th>      <td>   -0.0200</td> <td>    0.020</td> <td>   -0.996</td> <td> 0.319</td> <td>   -0.059</td> <td>    0.019</td>\n",
       "</tr>\n",
       "<tr>\n",
       "  <th>OnKameraMP</th>     <td>    0.0006</td> <td>    0.003</td> <td>    0.205</td> <td> 0.838</td> <td>   -0.005</td> <td>    0.007</td>\n",
       "</tr>\n",
       "<tr>\n",
       "  <th>4G</th>             <td>    0.0189</td> <td>    0.020</td> <td>    0.940</td> <td> 0.347</td> <td>   -0.021</td> <td>    0.058</td>\n",
       "</tr>\n",
       "<tr>\n",
       "  <th>DahiliBellek</th>   <td>    0.0009</td> <td>    0.001</td> <td>    1.605</td> <td> 0.109</td> <td>   -0.000</td> <td>    0.002</td>\n",
       "</tr>\n",
       "<tr>\n",
       "  <th>CekirdekSayisi</th> <td>    0.0029</td> <td>    0.004</td> <td>    0.670</td> <td> 0.503</td> <td>   -0.006</td> <td>    0.012</td>\n",
       "</tr>\n",
       "<tr>\n",
       "  <th>ArkaKameraMP</th>   <td>   -0.0001</td> <td>    0.002</td> <td>   -0.056</td> <td> 0.955</td> <td>   -0.004</td> <td>    0.004</td>\n",
       "</tr>\n",
       "<tr>\n",
       "  <th>RAM</th>            <td>    0.0009</td> <td>  9.3e-06</td> <td>  101.786</td> <td> 0.000</td> <td>    0.001</td> <td>    0.001</td>\n",
       "</tr>\n",
       "</table>\n",
       "<table class=\"simpletable\">\n",
       "<tr>\n",
       "  <th>Omnibus:</th>       <td>67.430</td> <th>  Durbin-Watson:     </th> <td>   2.036</td>\n",
       "</tr>\n",
       "<tr>\n",
       "  <th>Prob(Omnibus):</th> <td> 0.000</td> <th>  Jarque-Bera (JB):  </th> <td>  79.204</td>\n",
       "</tr>\n",
       "<tr>\n",
       "  <th>Skew:</th>          <td> 0.469</td> <th>  Prob(JB):          </th> <td>6.32e-18</td>\n",
       "</tr>\n",
       "<tr>\n",
       "  <th>Kurtosis:</th>      <td> 3.555</td> <th>  Cond. No.          </th> <td>1.31e+04</td>\n",
       "</tr>\n",
       "</table><br/><br/>Notes:<br/>[1] Standard Errors assume that the covariance matrix of the errors is correctly specified.<br/>[2] The condition number is large, 1.31e+04. This might indicate that there are<br/>strong multicollinearity or other numerical problems."
      ],
      "text/latex": [
       "\\begin{center}\n",
       "\\begin{tabular}{lclc}\n",
       "\\toprule\n",
       "\\textbf{Dep. Variable:}    &   FiyatAraligi   & \\textbf{  R-squared:         } &     0.873   \\\\\n",
       "\\textbf{Model:}            &       OLS        & \\textbf{  Adj. R-squared:    } &     0.873   \\\\\n",
       "\\textbf{Method:}           &  Least Squares   & \\textbf{  F-statistic:       } &     1369.   \\\\\n",
       "\\textbf{Date:}             & Sat, 09 Dec 2023 & \\textbf{  Prob (F-statistic):} &     0.00    \\\\\n",
       "\\textbf{Time:}             &     17:26:35     & \\textbf{  Log-Likelihood:    } &   -803.44   \\\\\n",
       "\\textbf{No. Observations:} &        1600      & \\textbf{  AIC:               } &     1625.   \\\\\n",
       "\\textbf{Df Residuals:}     &        1591      & \\textbf{  BIC:               } &     1673.   \\\\\n",
       "\\textbf{Df Model:}         &           8      & \\textbf{                     } &             \\\\\n",
       "\\textbf{Covariance Type:}  &    nonrobust     & \\textbf{                     } &             \\\\\n",
       "\\bottomrule\n",
       "\\end{tabular}\n",
       "\\begin{tabular}{lcccccc}\n",
       "                        & \\textbf{coef} & \\textbf{std err} & \\textbf{t} & \\textbf{P$> |$t$|$} & \\textbf{[0.025} & \\textbf{0.975]}  \\\\\n",
       "\\midrule\n",
       "\\textbf{const}          &      -1.1683  &        0.049     &   -23.702  &         0.000        &       -1.265    &       -1.072     \\\\\n",
       "\\textbf{BataryaGucu}    &       0.0005  &     2.27e-05     &    22.172  &         0.000        &        0.000    &        0.001     \\\\\n",
       "\\textbf{Bluetooth}      &      -0.0200  &        0.020     &    -0.996  &         0.319        &       -0.059    &        0.019     \\\\\n",
       "\\textbf{OnKameraMP}     &       0.0006  &        0.003     &     0.205  &         0.838        &       -0.005    &        0.007     \\\\\n",
       "\\textbf{4G}             &       0.0189  &        0.020     &     0.940  &         0.347        &       -0.021    &        0.058     \\\\\n",
       "\\textbf{DahiliBellek}   &       0.0009  &        0.001     &     1.605  &         0.109        &       -0.000    &        0.002     \\\\\n",
       "\\textbf{CekirdekSayisi} &       0.0029  &        0.004     &     0.670  &         0.503        &       -0.006    &        0.012     \\\\\n",
       "\\textbf{ArkaKameraMP}   &      -0.0001  &        0.002     &    -0.056  &         0.955        &       -0.004    &        0.004     \\\\\n",
       "\\textbf{RAM}            &       0.0009  &      9.3e-06     &   101.786  &         0.000        &        0.001    &        0.001     \\\\\n",
       "\\bottomrule\n",
       "\\end{tabular}\n",
       "\\begin{tabular}{lclc}\n",
       "\\textbf{Omnibus:}       & 67.430 & \\textbf{  Durbin-Watson:     } &    2.036  \\\\\n",
       "\\textbf{Prob(Omnibus):} &  0.000 & \\textbf{  Jarque-Bera (JB):  } &   79.204  \\\\\n",
       "\\textbf{Skew:}          &  0.469 & \\textbf{  Prob(JB):          } & 6.32e-18  \\\\\n",
       "\\textbf{Kurtosis:}      &  3.555 & \\textbf{  Cond. No.          } & 1.31e+04  \\\\\n",
       "\\bottomrule\n",
       "\\end{tabular}\n",
       "%\\caption{OLS Regression Results}\n",
       "\\end{center}\n",
       "\n",
       "Notes: \\newline\n",
       " [1] Standard Errors assume that the covariance matrix of the errors is correctly specified. \\newline\n",
       " [2] The condition number is large, 1.31e+04. This might indicate that there are \\newline\n",
       " strong multicollinearity or other numerical problems."
      ],
      "text/plain": [
       "<class 'statsmodels.iolib.summary.Summary'>\n",
       "\"\"\"\n",
       "                            OLS Regression Results                            \n",
       "==============================================================================\n",
       "Dep. Variable:           FiyatAraligi   R-squared:                       0.873\n",
       "Model:                            OLS   Adj. R-squared:                  0.873\n",
       "Method:                 Least Squares   F-statistic:                     1369.\n",
       "Date:                Sat, 09 Dec 2023   Prob (F-statistic):               0.00\n",
       "Time:                        17:26:35   Log-Likelihood:                -803.44\n",
       "No. Observations:                1600   AIC:                             1625.\n",
       "Df Residuals:                    1591   BIC:                             1673.\n",
       "Df Model:                           8                                         \n",
       "Covariance Type:            nonrobust                                         \n",
       "==================================================================================\n",
       "                     coef    std err          t      P>|t|      [0.025      0.975]\n",
       "----------------------------------------------------------------------------------\n",
       "const             -1.1683      0.049    -23.702      0.000      -1.265      -1.072\n",
       "BataryaGucu        0.0005   2.27e-05     22.172      0.000       0.000       0.001\n",
       "Bluetooth         -0.0200      0.020     -0.996      0.319      -0.059       0.019\n",
       "OnKameraMP         0.0006      0.003      0.205      0.838      -0.005       0.007\n",
       "4G                 0.0189      0.020      0.940      0.347      -0.021       0.058\n",
       "DahiliBellek       0.0009      0.001      1.605      0.109      -0.000       0.002\n",
       "CekirdekSayisi     0.0029      0.004      0.670      0.503      -0.006       0.012\n",
       "ArkaKameraMP      -0.0001      0.002     -0.056      0.955      -0.004       0.004\n",
       "RAM                0.0009    9.3e-06    101.786      0.000       0.001       0.001\n",
       "==============================================================================\n",
       "Omnibus:                       67.430   Durbin-Watson:                   2.036\n",
       "Prob(Omnibus):                  0.000   Jarque-Bera (JB):               79.204\n",
       "Skew:                           0.469   Prob(JB):                     6.32e-18\n",
       "Kurtosis:                       3.555   Cond. No.                     1.31e+04\n",
       "==============================================================================\n",
       "\n",
       "Notes:\n",
       "[1] Standard Errors assume that the covariance matrix of the errors is correctly specified.\n",
       "[2] The condition number is large, 1.31e+04. This might indicate that there are\n",
       "strong multicollinearity or other numerical problems.\n",
       "\"\"\""
      ]
     },
     "execution_count": 189,
     "metadata": {},
     "output_type": "execute_result"
    }
   ],
   "source": [
    "statsmodel.summary()"
   ]
  },
  {
   "cell_type": "code",
   "execution_count": 190,
   "id": "b9638d2e",
   "metadata": {},
   "outputs": [],
   "source": [
    "X_test_const = sm.add_constant(X_test)\n",
    "y_pred_stats = statsmodel.predict(X_test_const)"
   ]
  },
  {
   "cell_type": "code",
   "execution_count": 191,
   "id": "8097b454",
   "metadata": {},
   "outputs": [
    {
     "data": {
      "text/plain": [
       "0.15910607598553742"
      ]
     },
     "execution_count": 191,
     "metadata": {},
     "output_type": "execute_result"
    }
   ],
   "source": [
    "mean_squared_error(y_test,y_pred_stats)"
   ]
  },
  {
   "cell_type": "code",
   "execution_count": 192,
   "id": "15d0547c",
   "metadata": {},
   "outputs": [
    {
     "name": "stdout",
     "output_type": "stream",
     "text": [
      "[1.75759046]\n"
     ]
    }
   ],
   "source": [
    "tablet_stats = np.array([1, 1350, 0, 2.0, 1, 50, 2, 9, 2300.0])\n",
    "tablet_stats = yeniveri.reshape(1, -1)  # 1 satır, -1 ile otomatik sütun sayısı\n",
    "tablet_stats = sm.add_constant(yeniveri)\n",
    "y_pred = statsmodel.predict(yeniveri)\n",
    "print(y_pred)"
   ]
  },
  {
   "cell_type": "code",
   "execution_count": 193,
   "id": "b7747712",
   "metadata": {},
   "outputs": [],
   "source": [
    "#LR MODEL"
   ]
  },
  {
   "cell_type": "code",
   "execution_count": 194,
   "id": "2c4a29d1",
   "metadata": {},
   "outputs": [],
   "source": [
    "reg = LinearRegression()\n",
    "lr = reg.fit(X_train,y_train)"
   ]
  },
  {
   "cell_type": "code",
   "execution_count": 195,
   "id": "45a54cd3",
   "metadata": {},
   "outputs": [],
   "source": [
    "y_pred_lr = lr.predict(X_test)"
   ]
  },
  {
   "cell_type": "code",
   "execution_count": 196,
   "id": "66d428f1",
   "metadata": {},
   "outputs": [
    {
     "data": {
      "text/plain": [
       "0.1591060759855376"
      ]
     },
     "execution_count": 196,
     "metadata": {},
     "output_type": "execute_result"
    }
   ],
   "source": [
    "mean_squared_error(y_test,y_pred_lr)"
   ]
  },
  {
   "cell_type": "code",
   "execution_count": 197,
   "id": "593e5a1e",
   "metadata": {},
   "outputs": [],
   "source": [
    "#Modeller için yeni tablet verisi"
   ]
  },
  {
   "cell_type": "code",
   "execution_count": 198,
   "id": "a7e5c329",
   "metadata": {},
   "outputs": [],
   "source": [
    "yeni_tablet = np.array([[1350], [0], [2.0], [1], [50], [2], [9], [2300.0]])\n",
    "yeni_tablet = input_data.T"
   ]
  },
  {
   "cell_type": "code",
   "execution_count": 199,
   "id": "92e8ed48",
   "metadata": {},
   "outputs": [
    {
     "name": "stderr",
     "output_type": "stream",
     "text": [
      "C:\\Users\\deniz\\anaconda3\\lib\\site-packages\\sklearn\\base.py:439: UserWarning: X does not have valid feature names, but LinearRegression was fitted with feature names\n",
      "  warnings.warn(\n"
     ]
    },
    {
     "data": {
      "text/plain": [
       "array([1.75759046])"
      ]
     },
     "execution_count": 199,
     "metadata": {},
     "output_type": "execute_result"
    }
   ],
   "source": [
    "lr.predict(yeni_tablet)"
   ]
  },
  {
   "cell_type": "code",
   "execution_count": 200,
   "id": "314da9f0",
   "metadata": {},
   "outputs": [],
   "source": [
    "#Karar Ağacı"
   ]
  },
  {
   "cell_type": "code",
   "execution_count": 201,
   "id": "0e1d5664",
   "metadata": {},
   "outputs": [],
   "source": [
    "dct = DecisionTreeClassifier()"
   ]
  },
  {
   "cell_type": "code",
   "execution_count": 202,
   "id": "65c4f103",
   "metadata": {},
   "outputs": [],
   "source": [
    "dtree = dct.fit(X_train,y_train)"
   ]
  },
  {
   "cell_type": "code",
   "execution_count": 203,
   "id": "b6acfb06",
   "metadata": {},
   "outputs": [],
   "source": [
    "y_pred_dtree = dtree.predict(X_test)"
   ]
  },
  {
   "cell_type": "code",
   "execution_count": 204,
   "id": "4d7b2298",
   "metadata": {},
   "outputs": [
    {
     "data": {
      "text/plain": [
       "0.245"
      ]
     },
     "execution_count": 204,
     "metadata": {},
     "output_type": "execute_result"
    }
   ],
   "source": [
    "mean_squared_error(y_test,y_pred_dtree)"
   ]
  },
  {
   "cell_type": "code",
   "execution_count": 205,
   "id": "0cc0a575",
   "metadata": {},
   "outputs": [
    {
     "name": "stderr",
     "output_type": "stream",
     "text": [
      "C:\\Users\\deniz\\anaconda3\\lib\\site-packages\\sklearn\\base.py:439: UserWarning: X does not have valid feature names, but DecisionTreeClassifier was fitted with feature names\n",
      "  warnings.warn(\n"
     ]
    },
    {
     "data": {
      "text/plain": [
       "array([2], dtype=int64)"
      ]
     },
     "execution_count": 205,
     "metadata": {},
     "output_type": "execute_result"
    }
   ],
   "source": [
    "dtree.predict(yeni_tablet)"
   ]
  },
  {
   "cell_type": "code",
   "execution_count": 206,
   "id": "280bba55",
   "metadata": {},
   "outputs": [],
   "source": [
    "#KNN ALGORİTMASI"
   ]
  },
  {
   "cell_type": "code",
   "execution_count": 207,
   "id": "ce7cef22",
   "metadata": {},
   "outputs": [],
   "source": [
    "knn_model = KNeighborsRegressor().fit(X_train, y_train)"
   ]
  },
  {
   "cell_type": "code",
   "execution_count": 208,
   "id": "f39f4f2c",
   "metadata": {},
   "outputs": [
    {
     "data": {
      "text/html": [
       "<style>#sk-container-id-4 {color: black;background-color: white;}#sk-container-id-4 pre{padding: 0;}#sk-container-id-4 div.sk-toggleable {background-color: white;}#sk-container-id-4 label.sk-toggleable__label {cursor: pointer;display: block;width: 100%;margin-bottom: 0;padding: 0.3em;box-sizing: border-box;text-align: center;}#sk-container-id-4 label.sk-toggleable__label-arrow:before {content: \"▸\";float: left;margin-right: 0.25em;color: #696969;}#sk-container-id-4 label.sk-toggleable__label-arrow:hover:before {color: black;}#sk-container-id-4 div.sk-estimator:hover label.sk-toggleable__label-arrow:before {color: black;}#sk-container-id-4 div.sk-toggleable__content {max-height: 0;max-width: 0;overflow: hidden;text-align: left;background-color: #f0f8ff;}#sk-container-id-4 div.sk-toggleable__content pre {margin: 0.2em;color: black;border-radius: 0.25em;background-color: #f0f8ff;}#sk-container-id-4 input.sk-toggleable__control:checked~div.sk-toggleable__content {max-height: 200px;max-width: 100%;overflow: auto;}#sk-container-id-4 input.sk-toggleable__control:checked~label.sk-toggleable__label-arrow:before {content: \"▾\";}#sk-container-id-4 div.sk-estimator input.sk-toggleable__control:checked~label.sk-toggleable__label {background-color: #d4ebff;}#sk-container-id-4 div.sk-label input.sk-toggleable__control:checked~label.sk-toggleable__label {background-color: #d4ebff;}#sk-container-id-4 input.sk-hidden--visually {border: 0;clip: rect(1px 1px 1px 1px);clip: rect(1px, 1px, 1px, 1px);height: 1px;margin: -1px;overflow: hidden;padding: 0;position: absolute;width: 1px;}#sk-container-id-4 div.sk-estimator {font-family: monospace;background-color: #f0f8ff;border: 1px dotted black;border-radius: 0.25em;box-sizing: border-box;margin-bottom: 0.5em;}#sk-container-id-4 div.sk-estimator:hover {background-color: #d4ebff;}#sk-container-id-4 div.sk-parallel-item::after {content: \"\";width: 100%;border-bottom: 1px solid gray;flex-grow: 1;}#sk-container-id-4 div.sk-label:hover label.sk-toggleable__label {background-color: #d4ebff;}#sk-container-id-4 div.sk-serial::before {content: \"\";position: absolute;border-left: 1px solid gray;box-sizing: border-box;top: 0;bottom: 0;left: 50%;z-index: 0;}#sk-container-id-4 div.sk-serial {display: flex;flex-direction: column;align-items: center;background-color: white;padding-right: 0.2em;padding-left: 0.2em;position: relative;}#sk-container-id-4 div.sk-item {position: relative;z-index: 1;}#sk-container-id-4 div.sk-parallel {display: flex;align-items: stretch;justify-content: center;background-color: white;position: relative;}#sk-container-id-4 div.sk-item::before, #sk-container-id-4 div.sk-parallel-item::before {content: \"\";position: absolute;border-left: 1px solid gray;box-sizing: border-box;top: 0;bottom: 0;left: 50%;z-index: -1;}#sk-container-id-4 div.sk-parallel-item {display: flex;flex-direction: column;z-index: 1;position: relative;background-color: white;}#sk-container-id-4 div.sk-parallel-item:first-child::after {align-self: flex-end;width: 50%;}#sk-container-id-4 div.sk-parallel-item:last-child::after {align-self: flex-start;width: 50%;}#sk-container-id-4 div.sk-parallel-item:only-child::after {width: 0;}#sk-container-id-4 div.sk-dashed-wrapped {border: 1px dashed gray;margin: 0 0.4em 0.5em 0.4em;box-sizing: border-box;padding-bottom: 0.4em;background-color: white;}#sk-container-id-4 div.sk-label label {font-family: monospace;font-weight: bold;display: inline-block;line-height: 1.2em;}#sk-container-id-4 div.sk-label-container {text-align: center;}#sk-container-id-4 div.sk-container {/* jupyter's `normalize.less` sets `[hidden] { display: none; }` but bootstrap.min.css set `[hidden] { display: none !important; }` so we also need the `!important` here to be able to override the default hidden behavior on the sphinx rendered scikit-learn.org. See: https://github.com/scikit-learn/scikit-learn/issues/21755 */display: inline-block !important;position: relative;}#sk-container-id-4 div.sk-text-repr-fallback {display: none;}</style><div id=\"sk-container-id-4\" class=\"sk-top-container\"><div class=\"sk-text-repr-fallback\"><pre>KNeighborsRegressor()</pre><b>In a Jupyter environment, please rerun this cell to show the HTML representation or trust the notebook. <br />On GitHub, the HTML representation is unable to render, please try loading this page with nbviewer.org.</b></div><div class=\"sk-container\" hidden><div class=\"sk-item\"><div class=\"sk-estimator sk-toggleable\"><input class=\"sk-toggleable__control sk-hidden--visually\" id=\"sk-estimator-id-6\" type=\"checkbox\" checked><label for=\"sk-estimator-id-6\" class=\"sk-toggleable__label sk-toggleable__label-arrow\">KNeighborsRegressor</label><div class=\"sk-toggleable__content\"><pre>KNeighborsRegressor()</pre></div></div></div></div></div>"
      ],
      "text/plain": [
       "KNeighborsRegressor()"
      ]
     },
     "execution_count": 208,
     "metadata": {},
     "output_type": "execute_result"
    }
   ],
   "source": [
    "knn_model"
   ]
  },
  {
   "cell_type": "code",
   "execution_count": 209,
   "id": "343bf026",
   "metadata": {},
   "outputs": [
    {
     "data": {
      "text/plain": [
       "5"
      ]
     },
     "execution_count": 209,
     "metadata": {},
     "output_type": "execute_result"
    }
   ],
   "source": [
    "knn_model.n_neighbors"
   ]
  },
  {
   "cell_type": "code",
   "execution_count": 210,
   "id": "5a55577d",
   "metadata": {},
   "outputs": [],
   "source": [
    "y_pred_knn = knn_model.predict(X_test)"
   ]
  },
  {
   "cell_type": "code",
   "execution_count": 211,
   "id": "47cc9b1c",
   "metadata": {},
   "outputs": [
    {
     "data": {
      "text/plain": [
       "0.17980000000000002"
      ]
     },
     "execution_count": 211,
     "metadata": {},
     "output_type": "execute_result"
    }
   ],
   "source": [
    "mean_squared_error(y_test, y_pred_knn)"
   ]
  },
  {
   "cell_type": "code",
   "execution_count": 212,
   "id": "b7f102e1",
   "metadata": {},
   "outputs": [
    {
     "name": "stderr",
     "output_type": "stream",
     "text": [
      "C:\\Users\\deniz\\anaconda3\\lib\\site-packages\\sklearn\\base.py:439: UserWarning: X does not have valid feature names, but KNeighborsRegressor was fitted with feature names\n",
      "  warnings.warn(\n"
     ]
    },
    {
     "data": {
      "text/plain": [
       "array([1.4])"
      ]
     },
     "execution_count": 212,
     "metadata": {},
     "output_type": "execute_result"
    }
   ],
   "source": [
    "knn_model.predict(yeni_tablet)"
   ]
  },
  {
   "cell_type": "code",
   "execution_count": 213,
   "id": "92cfa92a",
   "metadata": {},
   "outputs": [],
   "source": [
    "#GBM MODEL"
   ]
  },
  {
   "cell_type": "code",
   "execution_count": 214,
   "id": "c34da2f6",
   "metadata": {},
   "outputs": [],
   "source": [
    "gbm_model =GradientBoostingRegressor().fit(X_train , y_train)"
   ]
  },
  {
   "cell_type": "code",
   "execution_count": 215,
   "id": "08b0da14",
   "metadata": {},
   "outputs": [],
   "source": [
    "y_pred_gbm = gbm_model.predict(X_test)"
   ]
  },
  {
   "cell_type": "code",
   "execution_count": 216,
   "id": "dfa7d387",
   "metadata": {},
   "outputs": [
    {
     "data": {
      "text/plain": [
       "0.13445986326688142"
      ]
     },
     "execution_count": 216,
     "metadata": {},
     "output_type": "execute_result"
    }
   ],
   "source": [
    "mean_squared_error(y_test, y_pred_gbm)"
   ]
  },
  {
   "cell_type": "code",
   "execution_count": 217,
   "id": "9e0ed13d",
   "metadata": {},
   "outputs": [
    {
     "name": "stderr",
     "output_type": "stream",
     "text": [
      "C:\\Users\\deniz\\anaconda3\\lib\\site-packages\\sklearn\\base.py:439: UserWarning: X does not have valid feature names, but GradientBoostingRegressor was fitted with feature names\n",
      "  warnings.warn(\n"
     ]
    },
    {
     "data": {
      "text/plain": [
       "array([1.56342442])"
      ]
     },
     "execution_count": 217,
     "metadata": {},
     "output_type": "execute_result"
    }
   ],
   "source": [
    "gbm_model.predict(yeni_tablet)"
   ]
  },
  {
   "cell_type": "code",
   "execution_count": null,
   "id": "5c023c09",
   "metadata": {},
   "outputs": [],
   "source": []
  },
  {
   "cell_type": "code",
   "execution_count": null,
   "id": "9417f598",
   "metadata": {},
   "outputs": [],
   "source": []
  },
  {
   "cell_type": "code",
   "execution_count": null,
   "id": "15dd1487",
   "metadata": {},
   "outputs": [],
   "source": []
  }
 ],
 "metadata": {
  "kernelspec": {
   "display_name": "Python 3 (ipykernel)",
   "language": "python",
   "name": "python3"
  },
  "language_info": {
   "codemirror_mode": {
    "name": "ipython",
    "version": 3
   },
   "file_extension": ".py",
   "mimetype": "text/x-python",
   "name": "python",
   "nbconvert_exporter": "python",
   "pygments_lexer": "ipython3",
   "version": "3.10.9"
  }
 },
 "nbformat": 4,
 "nbformat_minor": 5
}
